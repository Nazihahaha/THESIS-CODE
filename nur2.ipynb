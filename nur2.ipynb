{
  "cells": [
    {
      "cell_type": "code",
      "execution_count": 1,
      "metadata": {
        "id": "SbQzMbDh1bpu"
      },
      "outputs": [],
      "source": [
        "# Import necessary libraries\n",
        "import numpy as np\n",
        "import pandas as pd\n",
        "import matplotlib.pyplot as plt\n",
        "import seaborn as sns\n",
        "\n",
        "from sklearn.preprocessing import StandardScaler\n",
        "from sklearn.preprocessing import LabelEncoder\n",
        "from sklearn.model_selection import train_test_split\n",
        "from sklearn.metrics import classification_report\n",
        "\n",
        "from sklearn.linear_model import LogisticRegression\n",
        "from sklearn.svm import SVC\n",
        "from sklearn.tree import DecisionTreeClassifier\n",
        "from sklearn.ensemble import RandomForestClassifier\n",
        "from sklearn.ensemble import AdaBoostClassifier\n",
        "\n",
        "from sklearn.metrics import accuracy_score, f1_score, precision_score, recall_score, confusion_matrix"
      ]
    },
    {
      "cell_type": "code",
      "execution_count": 4,
      "metadata": {
        "colab": {
          "base_uri": "https://localhost:8080/"
        },
        "id": "Lraf0_LM1bp2",
        "outputId": "7bc4e5ea-e7ad-4f64-aa41-2db472b7367b"
      },
      "outputs": [
        {
          "name": "stdout",
          "output_type": "stream",
          "text": [
            "Number of duplicate rows: 1019\n"
          ]
        }
      ],
      "source": [
        "# Load the dataset\n",
        "mal_mem_df = pd.read_csv('C:/Users/nazih/OneDrive/Desktop/THESIS CODE/data.csv')\n",
        "mal_mem_df.shape\n",
        "\n",
        "# Converting data types\n",
        "mal_mem_df[\"Class\"] = mal_mem_df[\"Class\"].astype(\"category\")\n",
        "\n",
        "# Check for duplicate rows based on all columns\n",
        "duplicates = mal_mem_df[mal_mem_df.duplicated(keep=False)]  # keep=False marks all duplicates\n",
        "print(f\"Number of duplicate rows: {len(duplicates)}\")\n"
      ]
    },
    {
      "cell_type": "code",
      "execution_count": null,
      "metadata": {
        "id": "p17A8mVSMOT8"
      },
      "outputs": [],
      "source": []
    },
    {
      "cell_type": "code",
      "execution_count": null,
      "metadata": {
        "id": "twe9SkoPMOQn"
      },
      "outputs": [],
      "source": []
    },
    {
      "cell_type": "code",
      "execution_count": 5,
      "metadata": {
        "colab": {
          "base_uri": "https://localhost:8080/"
        },
        "id": "26kLNRdb1bp4",
        "outputId": "ed5aff7b-b340-40f3-94d8-36c20f94c7b8"
      },
      "outputs": [
        {
          "name": "stdout",
          "output_type": "stream",
          "text": [
            "Rows removed: 534\n"
          ]
        }
      ],
      "source": [
        "# Remove all but the first occurrence\n",
        "df = mal_mem_df.copy()\n",
        "df = df.drop_duplicates()\n",
        "print(f\"Rows removed: {len(mal_mem_df) - len(df)}\")"
      ]
    },
    {
      "cell_type": "code",
      "execution_count": 6,
      "metadata": {
        "colab": {
          "base_uri": "https://localhost:8080/"
        },
        "id": "E7zkvM0i1bp5",
        "outputId": "bcc6b49a-6011-4dcd-f711-bdf994211bd4"
      },
      "outputs": [
        {
          "name": "stdout",
          "output_type": "stream",
          "text": [
            "(58596, 57)\n"
          ]
        },
        {
          "data": {
            "text/plain": [
              "(58062, 57)"
            ]
          },
          "execution_count": 6,
          "metadata": {},
          "output_type": "execute_result"
        }
      ],
      "source": [
        "print(mal_mem_df.shape)\n",
        "df.shape"
      ]
    },
    {
      "cell_type": "code",
      "execution_count": 7,
      "metadata": {
        "id": "lf0Vmish1bp6"
      },
      "outputs": [],
      "source": [
        "# Split the category to capture the first word, which signifies the category type\n",
        "def category(column):\n",
        "    return column.split(\"-\")[0] if \"-\" in column else column"
      ]
    },
    {
      "cell_type": "code",
      "execution_count": 8,
      "metadata": {
        "id": "53C1VblK1bp6"
      },
      "outputs": [],
      "source": [
        "# Split the category to capture the second word, which signifies the category name\n",
        "def category_name(column):\n",
        "    return column.split(\"-\")[1] if \"-\" in column else column"
      ]
    },
    {
      "cell_type": "code",
      "execution_count": 9,
      "metadata": {
        "id": "-8rOC_W41bp6"
      },
      "outputs": [],
      "source": [
        "# Create new column category to store mawlare type\n",
        "# Use .loc to avoid the warning\n",
        "df[\"category\"] = df[\"Category\"].apply(category)"
      ]
    },
    {
      "cell_type": "code",
      "execution_count": 10,
      "metadata": {
        "colab": {
          "base_uri": "https://localhost:8080/",
          "height": 241
        },
        "id": "U5vvrTBH1bp7",
        "outputId": "3a7c6bbe-65f3-4f85-f834-ff0c62f56a07"
      },
      "outputs": [
        {
          "data": {
            "text/plain": [
              "category\n",
              "Benign        29231\n",
              "Spyware        9815\n",
              "Ransomware     9529\n",
              "Trojan         9487\n",
              "Name: count, dtype: int64"
            ]
          },
          "execution_count": 10,
          "metadata": {},
          "output_type": "execute_result"
        }
      ],
      "source": [
        "df[\"category\"].value_counts()"
      ]
    },
    {
      "cell_type": "code",
      "execution_count": 11,
      "metadata": {
        "colab": {
          "base_uri": "https://localhost:8080/",
          "height": 617
        },
        "id": "djnBGrOH1bp7",
        "outputId": "e3346725-b275-4165-eb68-1ae1d988c3e9"
      },
      "outputs": [
        {
          "data": {
            "text/plain": [
              "category_name\n",
              "Benign          29231\n",
              "Transponder      2410\n",
              "Shade            2128\n",
              "Ako              2000\n",
              "180solutions     2000\n",
              "CWS              2000\n",
              "Refroso          2000\n",
              "Scar             2000\n",
              "Gator            1995\n",
              "Conti            1988\n",
              "Emotet           1967\n",
              "Zeus             1950\n",
              "Maze             1754\n",
              "Pysa             1659\n",
              "Reconyc          1570\n",
              "TIBS             1410\n",
              "Name: count, dtype: int64"
            ]
          },
          "execution_count": 11,
          "metadata": {},
          "output_type": "execute_result"
        }
      ],
      "source": [
        "# Creating a column with the names of the variants\n",
        "df[\"category_name\"] = df[\"Category\"].apply(category_name)\n",
        "df[\"category_name\"].value_counts()"
      ]
    },
    {
      "cell_type": "code",
      "execution_count": 12,
      "metadata": {
        "id": "Nz01KY0NPg-f"
      },
      "outputs": [
        {
          "name": "stdout",
          "output_type": "stream",
          "text": [
            "Remaining category names in the dataset:\n",
            "category_name\n",
            "Transponder     2410\n",
            "Shade           2128\n",
            "Ako             2000\n",
            "180solutions    2000\n",
            "CWS             2000\n",
            "Refroso         2000\n",
            "Scar            2000\n",
            "Gator           1995\n",
            "Conti           1988\n",
            "Emotet          1967\n",
            "Zeus            1950\n",
            "Maze            1754\n",
            "Pysa            1659\n",
            "Reconyc         1570\n",
            "TIBS            1410\n",
            "Name: count, dtype: int64\n"
          ]
        }
      ],
      "source": [
        "# Drop rows where the category_name is 'Benign'\n",
        "df = df[df['category_name'] != 'Benign']\n",
        "\n",
        "# Verify if 'Benign' class has been removed\n",
        "print(f\"Remaining category names in the dataset:\\n{df['category_name'].value_counts()}\")\n"
      ]
    },
    {
      "cell_type": "code",
      "execution_count": 13,
      "metadata": {
        "id": "55kRoMTP1bp7"
      },
      "outputs": [],
      "source": [
        "# Define the label encoder\n",
        "def label_encoder(column):\n",
        "    lencode = LabelEncoder().fit(column)\n",
        "    print(column.name, lencode.classes_)\n",
        "    return lencode.transform(column)"
      ]
    },
    {
      "cell_type": "code",
      "execution_count": 14,
      "metadata": {
        "colab": {
          "base_uri": "https://localhost:8080/",
          "height": 342
        },
        "id": "l4PZu30a1bp8",
        "outputId": "80626ac0-6503-406a-ba96-386744bd9c40"
      },
      "outputs": [
        {
          "data": {
            "text/html": [
              "<div>\n",
              "<style scoped>\n",
              "    .dataframe tbody tr th:only-of-type {\n",
              "        vertical-align: middle;\n",
              "    }\n",
              "\n",
              "    .dataframe tbody tr th {\n",
              "        vertical-align: top;\n",
              "    }\n",
              "\n",
              "    .dataframe thead th {\n",
              "        text-align: right;\n",
              "    }\n",
              "</style>\n",
              "<table border=\"1\" class=\"dataframe\">\n",
              "  <thead>\n",
              "    <tr style=\"text-align: right;\">\n",
              "      <th></th>\n",
              "      <th>Category</th>\n",
              "      <th>pslist.nproc</th>\n",
              "      <th>pslist.nppid</th>\n",
              "      <th>pslist.avg_threads</th>\n",
              "      <th>pslist.nprocs64bit</th>\n",
              "      <th>pslist.avg_handlers</th>\n",
              "      <th>dlllist.ndlls</th>\n",
              "      <th>dlllist.avg_dlls_per_proc</th>\n",
              "      <th>handles.nhandles</th>\n",
              "      <th>handles.avg_handles_per_proc</th>\n",
              "      <th>...</th>\n",
              "      <th>svcscan.process_services</th>\n",
              "      <th>svcscan.shared_process_services</th>\n",
              "      <th>svcscan.interactive_process_services</th>\n",
              "      <th>svcscan.nactive</th>\n",
              "      <th>callbacks.ncallbacks</th>\n",
              "      <th>callbacks.nanonymous</th>\n",
              "      <th>callbacks.ngeneric</th>\n",
              "      <th>Class</th>\n",
              "      <th>category</th>\n",
              "      <th>category_name</th>\n",
              "    </tr>\n",
              "  </thead>\n",
              "  <tbody>\n",
              "    <tr>\n",
              "      <th>58591</th>\n",
              "      <td>Ransomware-Shade-fa03be3078d1b9840f06745f160eb...</td>\n",
              "      <td>37</td>\n",
              "      <td>15</td>\n",
              "      <td>10.108108</td>\n",
              "      <td>0</td>\n",
              "      <td>215.486487</td>\n",
              "      <td>1453</td>\n",
              "      <td>39.270270</td>\n",
              "      <td>7973</td>\n",
              "      <td>215.486487</td>\n",
              "      <td>...</td>\n",
              "      <td>24</td>\n",
              "      <td>116</td>\n",
              "      <td>0</td>\n",
              "      <td>120</td>\n",
              "      <td>86</td>\n",
              "      <td>0</td>\n",
              "      <td>8</td>\n",
              "      <td>Malware</td>\n",
              "      <td>Ransomware</td>\n",
              "      <td>Shade</td>\n",
              "    </tr>\n",
              "    <tr>\n",
              "      <th>58592</th>\n",
              "      <td>Ransomware-Shade-f56687137caf9a67678cde91e4614...</td>\n",
              "      <td>37</td>\n",
              "      <td>14</td>\n",
              "      <td>9.945946</td>\n",
              "      <td>0</td>\n",
              "      <td>190.216216</td>\n",
              "      <td>1347</td>\n",
              "      <td>36.405405</td>\n",
              "      <td>7038</td>\n",
              "      <td>190.216216</td>\n",
              "      <td>...</td>\n",
              "      <td>24</td>\n",
              "      <td>116</td>\n",
              "      <td>0</td>\n",
              "      <td>116</td>\n",
              "      <td>88</td>\n",
              "      <td>0</td>\n",
              "      <td>8</td>\n",
              "      <td>Malware</td>\n",
              "      <td>Ransomware</td>\n",
              "      <td>Shade</td>\n",
              "    </tr>\n",
              "    <tr>\n",
              "      <th>58593</th>\n",
              "      <td>Ransomware-Shade-faddeea111a25da4d0888f3044ae9...</td>\n",
              "      <td>38</td>\n",
              "      <td>15</td>\n",
              "      <td>9.842105</td>\n",
              "      <td>0</td>\n",
              "      <td>210.026316</td>\n",
              "      <td>1448</td>\n",
              "      <td>38.105263</td>\n",
              "      <td>7982</td>\n",
              "      <td>215.729730</td>\n",
              "      <td>...</td>\n",
              "      <td>24</td>\n",
              "      <td>116</td>\n",
              "      <td>0</td>\n",
              "      <td>120</td>\n",
              "      <td>88</td>\n",
              "      <td>0</td>\n",
              "      <td>8</td>\n",
              "      <td>Malware</td>\n",
              "      <td>Ransomware</td>\n",
              "      <td>Shade</td>\n",
              "    </tr>\n",
              "    <tr>\n",
              "      <th>58594</th>\n",
              "      <td>Ransomware-Shade-f866c086af2e1d8ebaa6f2c863157...</td>\n",
              "      <td>37</td>\n",
              "      <td>15</td>\n",
              "      <td>10.243243</td>\n",
              "      <td>0</td>\n",
              "      <td>215.513513</td>\n",
              "      <td>1452</td>\n",
              "      <td>39.243243</td>\n",
              "      <td>7974</td>\n",
              "      <td>215.513513</td>\n",
              "      <td>...</td>\n",
              "      <td>24</td>\n",
              "      <td>116</td>\n",
              "      <td>0</td>\n",
              "      <td>120</td>\n",
              "      <td>87</td>\n",
              "      <td>0</td>\n",
              "      <td>8</td>\n",
              "      <td>Malware</td>\n",
              "      <td>Ransomware</td>\n",
              "      <td>Shade</td>\n",
              "    </tr>\n",
              "    <tr>\n",
              "      <th>58595</th>\n",
              "      <td>Ransomware-Shade-955d9af38346c1755527bd196668e...</td>\n",
              "      <td>38</td>\n",
              "      <td>15</td>\n",
              "      <td>9.868421</td>\n",
              "      <td>0</td>\n",
              "      <td>213.026316</td>\n",
              "      <td>1487</td>\n",
              "      <td>39.131579</td>\n",
              "      <td>8095</td>\n",
              "      <td>213.026316</td>\n",
              "      <td>...</td>\n",
              "      <td>24</td>\n",
              "      <td>116</td>\n",
              "      <td>0</td>\n",
              "      <td>120</td>\n",
              "      <td>86</td>\n",
              "      <td>0</td>\n",
              "      <td>8</td>\n",
              "      <td>Malware</td>\n",
              "      <td>Ransomware</td>\n",
              "      <td>Shade</td>\n",
              "    </tr>\n",
              "  </tbody>\n",
              "</table>\n",
              "<p>5 rows × 59 columns</p>\n",
              "</div>"
            ],
            "text/plain": [
              "                                                Category  pslist.nproc  \\\n",
              "58591  Ransomware-Shade-fa03be3078d1b9840f06745f160eb...            37   \n",
              "58592  Ransomware-Shade-f56687137caf9a67678cde91e4614...            37   \n",
              "58593  Ransomware-Shade-faddeea111a25da4d0888f3044ae9...            38   \n",
              "58594  Ransomware-Shade-f866c086af2e1d8ebaa6f2c863157...            37   \n",
              "58595  Ransomware-Shade-955d9af38346c1755527bd196668e...            38   \n",
              "\n",
              "       pslist.nppid  pslist.avg_threads  pslist.nprocs64bit  \\\n",
              "58591            15           10.108108                   0   \n",
              "58592            14            9.945946                   0   \n",
              "58593            15            9.842105                   0   \n",
              "58594            15           10.243243                   0   \n",
              "58595            15            9.868421                   0   \n",
              "\n",
              "       pslist.avg_handlers  dlllist.ndlls  dlllist.avg_dlls_per_proc  \\\n",
              "58591           215.486487           1453                  39.270270   \n",
              "58592           190.216216           1347                  36.405405   \n",
              "58593           210.026316           1448                  38.105263   \n",
              "58594           215.513513           1452                  39.243243   \n",
              "58595           213.026316           1487                  39.131579   \n",
              "\n",
              "       handles.nhandles  handles.avg_handles_per_proc  ...  \\\n",
              "58591              7973                    215.486487  ...   \n",
              "58592              7038                    190.216216  ...   \n",
              "58593              7982                    215.729730  ...   \n",
              "58594              7974                    215.513513  ...   \n",
              "58595              8095                    213.026316  ...   \n",
              "\n",
              "       svcscan.process_services  svcscan.shared_process_services  \\\n",
              "58591                        24                              116   \n",
              "58592                        24                              116   \n",
              "58593                        24                              116   \n",
              "58594                        24                              116   \n",
              "58595                        24                              116   \n",
              "\n",
              "       svcscan.interactive_process_services  svcscan.nactive  \\\n",
              "58591                                     0              120   \n",
              "58592                                     0              116   \n",
              "58593                                     0              120   \n",
              "58594                                     0              120   \n",
              "58595                                     0              120   \n",
              "\n",
              "       callbacks.ncallbacks  callbacks.nanonymous  callbacks.ngeneric  \\\n",
              "58591                    86                     0                   8   \n",
              "58592                    88                     0                   8   \n",
              "58593                    88                     0                   8   \n",
              "58594                    87                     0                   8   \n",
              "58595                    86                     0                   8   \n",
              "\n",
              "         Class    category  category_name  \n",
              "58591  Malware  Ransomware          Shade  \n",
              "58592  Malware  Ransomware          Shade  \n",
              "58593  Malware  Ransomware          Shade  \n",
              "58594  Malware  Ransomware          Shade  \n",
              "58595  Malware  Ransomware          Shade  \n",
              "\n",
              "[5 rows x 59 columns]"
            ]
          },
          "execution_count": 14,
          "metadata": {},
          "output_type": "execute_result"
        }
      ],
      "source": [
        "df.tail(5)"
      ]
    },
    {
      "cell_type": "code",
      "execution_count": 15,
      "metadata": {
        "colab": {
          "base_uri": "https://localhost:8080/"
        },
        "id": "u118diaX1bp8",
        "outputId": "88dbf93d-1057-4646-cb94-031034c69497"
      },
      "outputs": [
        {
          "name": "stdout",
          "output_type": "stream",
          "text": [
            "category ['Ransomware' 'Spyware' 'Trojan']\n",
            "category_name ['180solutions' 'Ako' 'CWS' 'Conti' 'Emotet' 'Gator' 'Maze' 'Pysa'\n",
            " 'Reconyc' 'Refroso' 'Scar' 'Shade' 'TIBS' 'Transponder' 'Zeus']\n",
            "Class ['Malware']\n",
            "       category  category_name  Class\n",
            "29298         0              1      0\n",
            "29299         0              1      0\n",
            "29300         0              1      0\n",
            "29301         0              1      0\n",
            "29302         0              1      0\n",
            "29303         0              1      0\n",
            "29304         0              1      0\n",
            "29305         0              1      0\n",
            "29306         0              1      0\n",
            "29307         0              1      0\n"
          ]
        }
      ],
      "source": [
        "# Encoding the columns\n",
        "# Recommended approach using .loc[]\n",
        "df['category'] = label_encoder(df['category'])\n",
        "df['category_name'] = label_encoder(df['category_name'])\n",
        "df['Class'] = label_encoder(df['Class'])\n",
        "\n",
        "print(df[['category', 'category_name', 'Class']].head(10))\n"
      ]
    },
    {
      "cell_type": "code",
      "execution_count": 16,
      "metadata": {
        "id": "lO5hYQxq1bp8"
      },
      "outputs": [],
      "source": [
        "# Drop the Category and Class columns\n",
        "df.drop([\"Category\", \"Class\"], axis=1, inplace=True)"
      ]
    },
    {
      "cell_type": "code",
      "execution_count": 17,
      "metadata": {
        "colab": {
          "base_uri": "https://localhost:8080/",
          "height": 255
        },
        "id": "l4-dRiHK1bp8",
        "outputId": "ac2ddd48-2855-4555-aea5-6ac22815bb5b"
      },
      "outputs": [
        {
          "data": {
            "text/html": [
              "<div>\n",
              "<style scoped>\n",
              "    .dataframe tbody tr th:only-of-type {\n",
              "        vertical-align: middle;\n",
              "    }\n",
              "\n",
              "    .dataframe tbody tr th {\n",
              "        vertical-align: top;\n",
              "    }\n",
              "\n",
              "    .dataframe thead th {\n",
              "        text-align: right;\n",
              "    }\n",
              "</style>\n",
              "<table border=\"1\" class=\"dataframe\">\n",
              "  <thead>\n",
              "    <tr style=\"text-align: right;\">\n",
              "      <th></th>\n",
              "      <th>pslist.nproc</th>\n",
              "      <th>pslist.nppid</th>\n",
              "      <th>pslist.avg_threads</th>\n",
              "      <th>pslist.nprocs64bit</th>\n",
              "      <th>pslist.avg_handlers</th>\n",
              "      <th>dlllist.ndlls</th>\n",
              "      <th>dlllist.avg_dlls_per_proc</th>\n",
              "      <th>handles.nhandles</th>\n",
              "      <th>handles.avg_handles_per_proc</th>\n",
              "      <th>handles.nport</th>\n",
              "      <th>...</th>\n",
              "      <th>svcscan.fs_drivers</th>\n",
              "      <th>svcscan.process_services</th>\n",
              "      <th>svcscan.shared_process_services</th>\n",
              "      <th>svcscan.interactive_process_services</th>\n",
              "      <th>svcscan.nactive</th>\n",
              "      <th>callbacks.ncallbacks</th>\n",
              "      <th>callbacks.nanonymous</th>\n",
              "      <th>callbacks.ngeneric</th>\n",
              "      <th>category</th>\n",
              "      <th>category_name</th>\n",
              "    </tr>\n",
              "  </thead>\n",
              "  <tbody>\n",
              "    <tr>\n",
              "      <th>58591</th>\n",
              "      <td>37</td>\n",
              "      <td>15</td>\n",
              "      <td>10.108108</td>\n",
              "      <td>0</td>\n",
              "      <td>215.486487</td>\n",
              "      <td>1453</td>\n",
              "      <td>39.270270</td>\n",
              "      <td>7973</td>\n",
              "      <td>215.486487</td>\n",
              "      <td>0</td>\n",
              "      <td>...</td>\n",
              "      <td>26</td>\n",
              "      <td>24</td>\n",
              "      <td>116</td>\n",
              "      <td>0</td>\n",
              "      <td>120</td>\n",
              "      <td>86</td>\n",
              "      <td>0</td>\n",
              "      <td>8</td>\n",
              "      <td>0</td>\n",
              "      <td>11</td>\n",
              "    </tr>\n",
              "    <tr>\n",
              "      <th>58592</th>\n",
              "      <td>37</td>\n",
              "      <td>14</td>\n",
              "      <td>9.945946</td>\n",
              "      <td>0</td>\n",
              "      <td>190.216216</td>\n",
              "      <td>1347</td>\n",
              "      <td>36.405405</td>\n",
              "      <td>7038</td>\n",
              "      <td>190.216216</td>\n",
              "      <td>0</td>\n",
              "      <td>...</td>\n",
              "      <td>26</td>\n",
              "      <td>24</td>\n",
              "      <td>116</td>\n",
              "      <td>0</td>\n",
              "      <td>116</td>\n",
              "      <td>88</td>\n",
              "      <td>0</td>\n",
              "      <td>8</td>\n",
              "      <td>0</td>\n",
              "      <td>11</td>\n",
              "    </tr>\n",
              "    <tr>\n",
              "      <th>58593</th>\n",
              "      <td>38</td>\n",
              "      <td>15</td>\n",
              "      <td>9.842105</td>\n",
              "      <td>0</td>\n",
              "      <td>210.026316</td>\n",
              "      <td>1448</td>\n",
              "      <td>38.105263</td>\n",
              "      <td>7982</td>\n",
              "      <td>215.729730</td>\n",
              "      <td>0</td>\n",
              "      <td>...</td>\n",
              "      <td>26</td>\n",
              "      <td>24</td>\n",
              "      <td>116</td>\n",
              "      <td>0</td>\n",
              "      <td>120</td>\n",
              "      <td>88</td>\n",
              "      <td>0</td>\n",
              "      <td>8</td>\n",
              "      <td>0</td>\n",
              "      <td>11</td>\n",
              "    </tr>\n",
              "    <tr>\n",
              "      <th>58594</th>\n",
              "      <td>37</td>\n",
              "      <td>15</td>\n",
              "      <td>10.243243</td>\n",
              "      <td>0</td>\n",
              "      <td>215.513513</td>\n",
              "      <td>1452</td>\n",
              "      <td>39.243243</td>\n",
              "      <td>7974</td>\n",
              "      <td>215.513513</td>\n",
              "      <td>0</td>\n",
              "      <td>...</td>\n",
              "      <td>26</td>\n",
              "      <td>24</td>\n",
              "      <td>116</td>\n",
              "      <td>0</td>\n",
              "      <td>120</td>\n",
              "      <td>87</td>\n",
              "      <td>0</td>\n",
              "      <td>8</td>\n",
              "      <td>0</td>\n",
              "      <td>11</td>\n",
              "    </tr>\n",
              "    <tr>\n",
              "      <th>58595</th>\n",
              "      <td>38</td>\n",
              "      <td>15</td>\n",
              "      <td>9.868421</td>\n",
              "      <td>0</td>\n",
              "      <td>213.026316</td>\n",
              "      <td>1487</td>\n",
              "      <td>39.131579</td>\n",
              "      <td>8095</td>\n",
              "      <td>213.026316</td>\n",
              "      <td>0</td>\n",
              "      <td>...</td>\n",
              "      <td>26</td>\n",
              "      <td>24</td>\n",
              "      <td>116</td>\n",
              "      <td>0</td>\n",
              "      <td>120</td>\n",
              "      <td>86</td>\n",
              "      <td>0</td>\n",
              "      <td>8</td>\n",
              "      <td>0</td>\n",
              "      <td>11</td>\n",
              "    </tr>\n",
              "  </tbody>\n",
              "</table>\n",
              "<p>5 rows × 57 columns</p>\n",
              "</div>"
            ],
            "text/plain": [
              "       pslist.nproc  pslist.nppid  pslist.avg_threads  pslist.nprocs64bit  \\\n",
              "58591            37            15           10.108108                   0   \n",
              "58592            37            14            9.945946                   0   \n",
              "58593            38            15            9.842105                   0   \n",
              "58594            37            15           10.243243                   0   \n",
              "58595            38            15            9.868421                   0   \n",
              "\n",
              "       pslist.avg_handlers  dlllist.ndlls  dlllist.avg_dlls_per_proc  \\\n",
              "58591           215.486487           1453                  39.270270   \n",
              "58592           190.216216           1347                  36.405405   \n",
              "58593           210.026316           1448                  38.105263   \n",
              "58594           215.513513           1452                  39.243243   \n",
              "58595           213.026316           1487                  39.131579   \n",
              "\n",
              "       handles.nhandles  handles.avg_handles_per_proc  handles.nport  ...  \\\n",
              "58591              7973                    215.486487              0  ...   \n",
              "58592              7038                    190.216216              0  ...   \n",
              "58593              7982                    215.729730              0  ...   \n",
              "58594              7974                    215.513513              0  ...   \n",
              "58595              8095                    213.026316              0  ...   \n",
              "\n",
              "       svcscan.fs_drivers  svcscan.process_services  \\\n",
              "58591                  26                        24   \n",
              "58592                  26                        24   \n",
              "58593                  26                        24   \n",
              "58594                  26                        24   \n",
              "58595                  26                        24   \n",
              "\n",
              "       svcscan.shared_process_services  svcscan.interactive_process_services  \\\n",
              "58591                              116                                     0   \n",
              "58592                              116                                     0   \n",
              "58593                              116                                     0   \n",
              "58594                              116                                     0   \n",
              "58595                              116                                     0   \n",
              "\n",
              "       svcscan.nactive  callbacks.ncallbacks  callbacks.nanonymous  \\\n",
              "58591              120                    86                     0   \n",
              "58592              116                    88                     0   \n",
              "58593              120                    88                     0   \n",
              "58594              120                    87                     0   \n",
              "58595              120                    86                     0   \n",
              "\n",
              "       callbacks.ngeneric  category  category_name  \n",
              "58591                   8         0             11  \n",
              "58592                   8         0             11  \n",
              "58593                   8         0             11  \n",
              "58594                   8         0             11  \n",
              "58595                   8         0             11  \n",
              "\n",
              "[5 rows x 57 columns]"
            ]
          },
          "execution_count": 17,
          "metadata": {},
          "output_type": "execute_result"
        }
      ],
      "source": [
        "df.tail()"
      ]
    },
    {
      "cell_type": "code",
      "execution_count": 18,
      "metadata": {
        "colab": {
          "base_uri": "https://localhost:8080/",
          "height": 255
        },
        "id": "0U4Bb0JZ1bp8",
        "outputId": "d4393023-fde2-49bc-d6a7-174ca29a5abd"
      },
      "outputs": [
        {
          "data": {
            "text/html": [
              "<div>\n",
              "<style scoped>\n",
              "    .dataframe tbody tr th:only-of-type {\n",
              "        vertical-align: middle;\n",
              "    }\n",
              "\n",
              "    .dataframe tbody tr th {\n",
              "        vertical-align: top;\n",
              "    }\n",
              "\n",
              "    .dataframe thead th {\n",
              "        text-align: right;\n",
              "    }\n",
              "</style>\n",
              "<table border=\"1\" class=\"dataframe\">\n",
              "  <thead>\n",
              "    <tr style=\"text-align: right;\">\n",
              "      <th></th>\n",
              "      <th>pslist.nproc</th>\n",
              "      <th>pslist.nppid</th>\n",
              "      <th>pslist.avg_threads</th>\n",
              "      <th>pslist.nprocs64bit</th>\n",
              "      <th>pslist.avg_handlers</th>\n",
              "      <th>dlllist.ndlls</th>\n",
              "      <th>dlllist.avg_dlls_per_proc</th>\n",
              "      <th>handles.nhandles</th>\n",
              "      <th>handles.avg_handles_per_proc</th>\n",
              "      <th>handles.nport</th>\n",
              "      <th>...</th>\n",
              "      <th>svcscan.nservices</th>\n",
              "      <th>svcscan.kernel_drivers</th>\n",
              "      <th>svcscan.fs_drivers</th>\n",
              "      <th>svcscan.process_services</th>\n",
              "      <th>svcscan.shared_process_services</th>\n",
              "      <th>svcscan.interactive_process_services</th>\n",
              "      <th>svcscan.nactive</th>\n",
              "      <th>callbacks.ncallbacks</th>\n",
              "      <th>callbacks.nanonymous</th>\n",
              "      <th>callbacks.ngeneric</th>\n",
              "    </tr>\n",
              "  </thead>\n",
              "  <tbody>\n",
              "    <tr>\n",
              "      <th>58591</th>\n",
              "      <td>37</td>\n",
              "      <td>15</td>\n",
              "      <td>10.108108</td>\n",
              "      <td>0</td>\n",
              "      <td>215.486487</td>\n",
              "      <td>1453</td>\n",
              "      <td>39.270270</td>\n",
              "      <td>7973</td>\n",
              "      <td>215.486487</td>\n",
              "      <td>0</td>\n",
              "      <td>...</td>\n",
              "      <td>389</td>\n",
              "      <td>221</td>\n",
              "      <td>26</td>\n",
              "      <td>24</td>\n",
              "      <td>116</td>\n",
              "      <td>0</td>\n",
              "      <td>120</td>\n",
              "      <td>86</td>\n",
              "      <td>0</td>\n",
              "      <td>8</td>\n",
              "    </tr>\n",
              "    <tr>\n",
              "      <th>58592</th>\n",
              "      <td>37</td>\n",
              "      <td>14</td>\n",
              "      <td>9.945946</td>\n",
              "      <td>0</td>\n",
              "      <td>190.216216</td>\n",
              "      <td>1347</td>\n",
              "      <td>36.405405</td>\n",
              "      <td>7038</td>\n",
              "      <td>190.216216</td>\n",
              "      <td>0</td>\n",
              "      <td>...</td>\n",
              "      <td>389</td>\n",
              "      <td>221</td>\n",
              "      <td>26</td>\n",
              "      <td>24</td>\n",
              "      <td>116</td>\n",
              "      <td>0</td>\n",
              "      <td>116</td>\n",
              "      <td>88</td>\n",
              "      <td>0</td>\n",
              "      <td>8</td>\n",
              "    </tr>\n",
              "    <tr>\n",
              "      <th>58593</th>\n",
              "      <td>38</td>\n",
              "      <td>15</td>\n",
              "      <td>9.842105</td>\n",
              "      <td>0</td>\n",
              "      <td>210.026316</td>\n",
              "      <td>1448</td>\n",
              "      <td>38.105263</td>\n",
              "      <td>7982</td>\n",
              "      <td>215.729730</td>\n",
              "      <td>0</td>\n",
              "      <td>...</td>\n",
              "      <td>389</td>\n",
              "      <td>221</td>\n",
              "      <td>26</td>\n",
              "      <td>24</td>\n",
              "      <td>116</td>\n",
              "      <td>0</td>\n",
              "      <td>120</td>\n",
              "      <td>88</td>\n",
              "      <td>0</td>\n",
              "      <td>8</td>\n",
              "    </tr>\n",
              "    <tr>\n",
              "      <th>58594</th>\n",
              "      <td>37</td>\n",
              "      <td>15</td>\n",
              "      <td>10.243243</td>\n",
              "      <td>0</td>\n",
              "      <td>215.513513</td>\n",
              "      <td>1452</td>\n",
              "      <td>39.243243</td>\n",
              "      <td>7974</td>\n",
              "      <td>215.513513</td>\n",
              "      <td>0</td>\n",
              "      <td>...</td>\n",
              "      <td>389</td>\n",
              "      <td>221</td>\n",
              "      <td>26</td>\n",
              "      <td>24</td>\n",
              "      <td>116</td>\n",
              "      <td>0</td>\n",
              "      <td>120</td>\n",
              "      <td>87</td>\n",
              "      <td>0</td>\n",
              "      <td>8</td>\n",
              "    </tr>\n",
              "    <tr>\n",
              "      <th>58595</th>\n",
              "      <td>38</td>\n",
              "      <td>15</td>\n",
              "      <td>9.868421</td>\n",
              "      <td>0</td>\n",
              "      <td>213.026316</td>\n",
              "      <td>1487</td>\n",
              "      <td>39.131579</td>\n",
              "      <td>8095</td>\n",
              "      <td>213.026316</td>\n",
              "      <td>0</td>\n",
              "      <td>...</td>\n",
              "      <td>389</td>\n",
              "      <td>221</td>\n",
              "      <td>26</td>\n",
              "      <td>24</td>\n",
              "      <td>116</td>\n",
              "      <td>0</td>\n",
              "      <td>120</td>\n",
              "      <td>86</td>\n",
              "      <td>0</td>\n",
              "      <td>8</td>\n",
              "    </tr>\n",
              "  </tbody>\n",
              "</table>\n",
              "<p>5 rows × 55 columns</p>\n",
              "</div>"
            ],
            "text/plain": [
              "       pslist.nproc  pslist.nppid  pslist.avg_threads  pslist.nprocs64bit  \\\n",
              "58591            37            15           10.108108                   0   \n",
              "58592            37            14            9.945946                   0   \n",
              "58593            38            15            9.842105                   0   \n",
              "58594            37            15           10.243243                   0   \n",
              "58595            38            15            9.868421                   0   \n",
              "\n",
              "       pslist.avg_handlers  dlllist.ndlls  dlllist.avg_dlls_per_proc  \\\n",
              "58591           215.486487           1453                  39.270270   \n",
              "58592           190.216216           1347                  36.405405   \n",
              "58593           210.026316           1448                  38.105263   \n",
              "58594           215.513513           1452                  39.243243   \n",
              "58595           213.026316           1487                  39.131579   \n",
              "\n",
              "       handles.nhandles  handles.avg_handles_per_proc  handles.nport  ...  \\\n",
              "58591              7973                    215.486487              0  ...   \n",
              "58592              7038                    190.216216              0  ...   \n",
              "58593              7982                    215.729730              0  ...   \n",
              "58594              7974                    215.513513              0  ...   \n",
              "58595              8095                    213.026316              0  ...   \n",
              "\n",
              "       svcscan.nservices  svcscan.kernel_drivers  svcscan.fs_drivers  \\\n",
              "58591                389                     221                  26   \n",
              "58592                389                     221                  26   \n",
              "58593                389                     221                  26   \n",
              "58594                389                     221                  26   \n",
              "58595                389                     221                  26   \n",
              "\n",
              "       svcscan.process_services  svcscan.shared_process_services  \\\n",
              "58591                        24                              116   \n",
              "58592                        24                              116   \n",
              "58593                        24                              116   \n",
              "58594                        24                              116   \n",
              "58595                        24                              116   \n",
              "\n",
              "       svcscan.interactive_process_services  svcscan.nactive  \\\n",
              "58591                                     0              120   \n",
              "58592                                     0              116   \n",
              "58593                                     0              120   \n",
              "58594                                     0              120   \n",
              "58595                                     0              120   \n",
              "\n",
              "       callbacks.ncallbacks  callbacks.nanonymous  callbacks.ngeneric  \n",
              "58591                    86                     0                   8  \n",
              "58592                    88                     0                   8  \n",
              "58593                    88                     0                   8  \n",
              "58594                    87                     0                   8  \n",
              "58595                    86                     0                   8  \n",
              "\n",
              "[5 rows x 55 columns]"
            ]
          },
          "execution_count": 18,
          "metadata": {},
          "output_type": "execute_result"
        }
      ],
      "source": [
        "# Separate features and target\n",
        "X = df.drop(\"category_name\", axis=1)\n",
        "y = df[\"category_name\"]\n",
        "X.drop([\"category\"], axis=1, inplace=True)\n",
        "X.tail()"
      ]
    },
    {
      "cell_type": "code",
      "execution_count": null,
      "metadata": {
        "id": "kFRBfygtcVoB"
      },
      "outputs": [],
      "source": []
    },
    {
      "cell_type": "code",
      "execution_count": 19,
      "metadata": {
        "colab": {
          "base_uri": "https://localhost:8080/",
          "height": 690
        },
        "id": "-iwAbw301bp9",
        "outputId": "43873b0e-cdc6-4c0e-a4bb-185fbad1193d"
      },
      "outputs": [
        {
          "name": "stdout",
          "output_type": "stream",
          "text": [
            "Selected features: ['pslist.nppid', 'pslist.avg_threads', 'pslist.avg_handlers', 'handles.nport', 'handles.nfile']\n",
            "F-scores for selected features:\n",
            "pslist.nppid: F-score=220.3\n",
            "pslist.avg_threads: F-score=343.0\n",
            "pslist.avg_handlers: F-score=212.3\n",
            "handles.nport: F-score=180.1\n",
            "handles.nfile: F-score=212.3\n"
          ]
        },
        {
          "data": {
            "image/png": "[encoded data removed]",
            "text/plain": [
              "<Figure size 640x480 with 1 Axes>"
            ]
          },
          "metadata": {},
          "output_type": "display_data"
        }
      ],
      "source": [
        "from sklearn.feature_selection import SelectKBest, f_classif\n",
        "from sklearn.preprocessing import StandardScaler\n",
        "from sklearn.feature_selection import VarianceThreshold\n",
        "import warnings\n",
        "import pandas as pd\n",
        "import numpy as np\n",
        "import matplotlib.pyplot as plt\n",
        "\n",
        "# Suppress specific warnings (if you want)\n",
        "warnings.filterwarnings(\"ignore\", message=\"Features .* are constant.\")\n",
        "warnings.filterwarnings(\"ignore\", message=\"invalid value encountered in divide\")\n",
        "\n",
        "# Step 1: Remove constant features\n",
        "constant_filter = VarianceThreshold(threshold=0.01)\n",
        "X_filtered = constant_filter.fit_transform(X)\n",
        "\n",
        "# Step 2: Standardize the data\n",
        "scaler = StandardScaler()\n",
        "X_scaled = scaler.fit_transform(X_filtered)\n",
        "\n",
        "# Step 3: Handle correlations and drop highly correlated features\n",
        "corr_matrix = pd.DataFrame(X_scaled).corr().abs()  # Compute correlation on standardized data\n",
        "upper = corr_matrix.where(np.triu(np.ones_like(corr_matrix, dtype=bool), k=1))  # Fix here: convert to boolean\n",
        "to_drop = [col for col in upper.columns if any(upper[col] > 0.85)]  # Remove high correlations\n",
        "X_scaled = pd.DataFrame(X_scaled).drop(columns=to_drop).values  # Drop correlated features after scaling\n",
        "\n",
        "# Step 4: Select top k features using F-test (ANOVA)\n",
        "k = 5  # Number of top features to select\n",
        "selector = SelectKBest(score_func=f_classif, k=k)\n",
        "X_selected = selector.fit_transform(X_scaled, y)\n",
        "\n",
        "# Step 5: Get the names of the selected features\n",
        "# Now that we've filtered out correlated features, we need to update `X_scaled` with the correct features.\n",
        "# Get the selected features' indices and map them to the original feature names\n",
        "selected_features = [col for col, support in zip(X.columns, selector.get_support()) if support]\n",
        "\n",
        "print(\"Selected features:\", selected_features)\n",
        "\n",
        "# F-scores and p-values\n",
        "f_scores, p_values = f_classif(X_scaled, y)\n",
        "\n",
        "# Printing F-scores for the selected features\n",
        "print(\"F-scores for selected features:\")\n",
        "for feature, f in zip(selected_features, f_scores[selector.get_support()]):\n",
        "    print(f\"{feature}: F-score={f:.1f}\")\n",
        "\n",
        "# Step 6: Plotting F-scores for the selected features\n",
        "plt.bar(selected_features, f_scores[selector.get_support()])\n",
        "plt.xticks(rotation=45)\n",
        "plt.title(\"ANOVA F-Scores for Selected Features\")\n",
        "plt.xlabel('Features')\n",
        "plt.ylabel('F-score')\n",
        "plt.show()\n"
      ]
    },
    {
      "cell_type": "code",
      "execution_count": 20,
      "metadata": {
        "id": "pmdIlO_o1bp9"
      },
      "outputs": [],
      "source": [
        "# Split the dataset into training and testing sets, using the usual 80:20 split\n",
        "from sklearn.model_selection import train_test_split, cross_val_score, StratifiedKFold\n",
        "X_train, X_test, y_train, y_test = train_test_split(X_selected, y, test_size=0.2, random_state=42)"
      ]
    },
    {
      "cell_type": "code",
      "execution_count": null,
      "metadata": {
        "id": "JNWCEm751bp9"
      },
      "outputs": [],
      "source": [
        "\n",
        "'''from imblearn.over_sampling import ADASYN\n",
        "# Apply ADASYN (Adaptive Synthetic Sampling)\n",
        "adasyn = ADASYN(random_state=42, sampling_strategy='auto')  # Use 'auto' to balance the classes\n",
        "X_resampled, y_resampled = adasyn.fit_resample(X_train, y_train)'''\n"
      ]
    },
    {
      "cell_type": "code",
      "execution_count": 26,
      "metadata": {
        "id": "EJGlQ6s0StI_"
      },
      "outputs": [
        {
          "ename": "AttributeError",
          "evalue": "'super' object has no attribute '__sklearn_tags__'",
          "output_type": "error",
          "traceback": [
            "\u001b[1;31m---------------------------------------------------------------------------\u001b[0m",
            "\u001b[1;31mAttributeError\u001b[0m                            Traceback (most recent call last)",
            "Cell \u001b[1;32mIn[26], line 19\u001b[0m\n\u001b[0;32m     13\u001b[0m voting_clf \u001b[38;5;241m=\u001b[39m VotingClassifier(estimators\u001b[38;5;241m=\u001b[39m[\n\u001b[0;32m     14\u001b[0m     (\u001b[38;5;124m'\u001b[39m\u001b[38;5;124mrf\u001b[39m\u001b[38;5;124m'\u001b[39m, rf),\n\u001b[0;32m     15\u001b[0m     (\u001b[38;5;124m'\u001b[39m\u001b[38;5;124mxgb\u001b[39m\u001b[38;5;124m'\u001b[39m, xgb),\n\u001b[0;32m     16\u001b[0m ], voting\u001b[38;5;241m=\u001b[39m\u001b[38;5;124m'\u001b[39m\u001b[38;5;124msoft\u001b[39m\u001b[38;5;124m'\u001b[39m)  \u001b[38;5;66;03m# Soft voting (uses predicted probabilities)\u001b[39;00m\n\u001b[0;32m     18\u001b[0m \u001b[38;5;66;03m# Fit the Voting Classifier\u001b[39;00m\n\u001b[1;32m---> 19\u001b[0m \u001b[43mvoting_clf\u001b[49m\u001b[38;5;241;43m.\u001b[39;49m\u001b[43mfit\u001b[49m\u001b[43m(\u001b[49m\u001b[43mX_train\u001b[49m\u001b[43m,\u001b[49m\u001b[43m \u001b[49m\u001b[43my_train\u001b[49m\u001b[43m)\u001b[49m\n\u001b[0;32m     21\u001b[0m \u001b[38;5;66;03m# Perform cross-validation and check accuracy\u001b[39;00m\n\u001b[0;32m     22\u001b[0m cv_scores \u001b[38;5;241m=\u001b[39m cross_val_score(voting_clf, X_train, y_train, cv\u001b[38;5;241m=\u001b[39m\u001b[38;5;241m3\u001b[39m, scoring\u001b[38;5;241m=\u001b[39m\u001b[38;5;124m'\u001b[39m\u001b[38;5;124maccuracy\u001b[39m\u001b[38;5;124m'\u001b[39m)  \u001b[38;5;66;03m# Reduce cv folds for quicker testing\u001b[39;00m\n",
            "File \u001b[1;32mc:\\Python\\Python311\\Lib\\site-packages\\sklearn\\base.py:1389\u001b[0m, in \u001b[0;36m_fit_context.<locals>.decorator.<locals>.wrapper\u001b[1;34m(estimator, *args, **kwargs)\u001b[0m\n\u001b[0;32m   1382\u001b[0m     estimator\u001b[38;5;241m.\u001b[39m_validate_params()\n\u001b[0;32m   1384\u001b[0m \u001b[38;5;28;01mwith\u001b[39;00m config_context(\n\u001b[0;32m   1385\u001b[0m     skip_parameter_validation\u001b[38;5;241m=\u001b[39m(\n\u001b[0;32m   1386\u001b[0m         prefer_skip_nested_validation \u001b[38;5;129;01mor\u001b[39;00m global_skip_validation\n\u001b[0;32m   1387\u001b[0m     )\n\u001b[0;32m   1388\u001b[0m ):\n\u001b[1;32m-> 1389\u001b[0m     \u001b[38;5;28;01mreturn\u001b[39;00m \u001b[43mfit_method\u001b[49m\u001b[43m(\u001b[49m\u001b[43mestimator\u001b[49m\u001b[43m,\u001b[49m\u001b[43m \u001b[49m\u001b[38;5;241;43m*\u001b[39;49m\u001b[43margs\u001b[49m\u001b[43m,\u001b[49m\u001b[43m \u001b[49m\u001b[38;5;241;43m*\u001b[39;49m\u001b[38;5;241;43m*\u001b[39;49m\u001b[43mkwargs\u001b[49m\u001b[43m)\u001b[49m\n",
            "File \u001b[1;32mc:\\Python\\Python311\\Lib\\site-packages\\sklearn\\utils\\validation.py:63\u001b[0m, in \u001b[0;36m_deprecate_positional_args.<locals>._inner_deprecate_positional_args.<locals>.inner_f\u001b[1;34m(*args, **kwargs)\u001b[0m\n\u001b[0;32m     61\u001b[0m extra_args \u001b[38;5;241m=\u001b[39m \u001b[38;5;28mlen\u001b[39m(args) \u001b[38;5;241m-\u001b[39m \u001b[38;5;28mlen\u001b[39m(all_args)\n\u001b[0;32m     62\u001b[0m \u001b[38;5;28;01mif\u001b[39;00m extra_args \u001b[38;5;241m<\u001b[39m\u001b[38;5;241m=\u001b[39m \u001b[38;5;241m0\u001b[39m:\n\u001b[1;32m---> 63\u001b[0m     \u001b[38;5;28;01mreturn\u001b[39;00m \u001b[43mf\u001b[49m\u001b[43m(\u001b[49m\u001b[38;5;241;43m*\u001b[39;49m\u001b[43margs\u001b[49m\u001b[43m,\u001b[49m\u001b[43m \u001b[49m\u001b[38;5;241;43m*\u001b[39;49m\u001b[38;5;241;43m*\u001b[39;49m\u001b[43mkwargs\u001b[49m\u001b[43m)\u001b[49m\n\u001b[0;32m     65\u001b[0m \u001b[38;5;66;03m# extra_args > 0\u001b[39;00m\n\u001b[0;32m     66\u001b[0m args_msg \u001b[38;5;241m=\u001b[39m [\n\u001b[0;32m     67\u001b[0m     \u001b[38;5;124m\"\u001b[39m\u001b[38;5;132;01m{}\u001b[39;00m\u001b[38;5;124m=\u001b[39m\u001b[38;5;132;01m{}\u001b[39;00m\u001b[38;5;124m\"\u001b[39m\u001b[38;5;241m.\u001b[39mformat(name, arg)\n\u001b[0;32m     68\u001b[0m     \u001b[38;5;28;01mfor\u001b[39;00m name, arg \u001b[38;5;129;01min\u001b[39;00m \u001b[38;5;28mzip\u001b[39m(kwonly_args[:extra_args], args[\u001b[38;5;241m-\u001b[39mextra_args:])\n\u001b[0;32m     69\u001b[0m ]\n",
            "File \u001b[1;32mc:\\Python\\Python311\\Lib\\site-packages\\sklearn\\ensemble\\_voting.py:419\u001b[0m, in \u001b[0;36mVotingClassifier.fit\u001b[1;34m(self, X, y, sample_weight, **fit_params)\u001b[0m\n\u001b[0;32m    416\u001b[0m \u001b[38;5;28;01mif\u001b[39;00m sample_weight \u001b[38;5;129;01mis\u001b[39;00m \u001b[38;5;129;01mnot\u001b[39;00m \u001b[38;5;28;01mNone\u001b[39;00m:\n\u001b[0;32m    417\u001b[0m     fit_params[\u001b[38;5;124m\"\u001b[39m\u001b[38;5;124msample_weight\u001b[39m\u001b[38;5;124m\"\u001b[39m] \u001b[38;5;241m=\u001b[39m sample_weight\n\u001b[1;32m--> 419\u001b[0m \u001b[38;5;28;01mreturn\u001b[39;00m \u001b[38;5;28;43msuper\u001b[39;49m\u001b[43m(\u001b[49m\u001b[43m)\u001b[49m\u001b[38;5;241;43m.\u001b[39;49m\u001b[43mfit\u001b[49m\u001b[43m(\u001b[49m\u001b[43mX\u001b[49m\u001b[43m,\u001b[49m\u001b[43m \u001b[49m\u001b[43mtransformed_y\u001b[49m\u001b[43m,\u001b[49m\u001b[43m \u001b[49m\u001b[38;5;241;43m*\u001b[39;49m\u001b[38;5;241;43m*\u001b[39;49m\u001b[43mfit_params\u001b[49m\u001b[43m)\u001b[49m\n",
            "File \u001b[1;32mc:\\Python\\Python311\\Lib\\site-packages\\sklearn\\ensemble\\_voting.py:81\u001b[0m, in \u001b[0;36m_BaseVoting.fit\u001b[1;34m(self, X, y, **fit_params)\u001b[0m\n\u001b[0;32m     78\u001b[0m \u001b[38;5;129m@abstractmethod\u001b[39m\n\u001b[0;32m     79\u001b[0m \u001b[38;5;28;01mdef\u001b[39;00m \u001b[38;5;21mfit\u001b[39m(\u001b[38;5;28mself\u001b[39m, X, y, \u001b[38;5;241m*\u001b[39m\u001b[38;5;241m*\u001b[39mfit_params):\n\u001b[0;32m     80\u001b[0m \u001b[38;5;250m    \u001b[39m\u001b[38;5;124;03m\"\"\"Get common fit operations.\"\"\"\u001b[39;00m\n\u001b[1;32m---> 81\u001b[0m     names, clfs \u001b[38;5;241m=\u001b[39m \u001b[38;5;28;43mself\u001b[39;49m\u001b[38;5;241;43m.\u001b[39;49m\u001b[43m_validate_estimators\u001b[49m\u001b[43m(\u001b[49m\u001b[43m)\u001b[49m\n\u001b[0;32m     83\u001b[0m     \u001b[38;5;28;01mif\u001b[39;00m \u001b[38;5;28mself\u001b[39m\u001b[38;5;241m.\u001b[39mweights \u001b[38;5;129;01mis\u001b[39;00m \u001b[38;5;129;01mnot\u001b[39;00m \u001b[38;5;28;01mNone\u001b[39;00m \u001b[38;5;129;01mand\u001b[39;00m \u001b[38;5;28mlen\u001b[39m(\u001b[38;5;28mself\u001b[39m\u001b[38;5;241m.\u001b[39mweights) \u001b[38;5;241m!=\u001b[39m \u001b[38;5;28mlen\u001b[39m(\u001b[38;5;28mself\u001b[39m\u001b[38;5;241m.\u001b[39mestimators):\n\u001b[0;32m     84\u001b[0m         \u001b[38;5;28;01mraise\u001b[39;00m \u001b[38;5;167;01mValueError\u001b[39;00m(\n\u001b[0;32m     85\u001b[0m             \u001b[38;5;124m\"\u001b[39m\u001b[38;5;124mNumber of `estimators` and weights must be equal; got\u001b[39m\u001b[38;5;124m\"\u001b[39m\n\u001b[0;32m     86\u001b[0m             \u001b[38;5;124mf\u001b[39m\u001b[38;5;124m\"\u001b[39m\u001b[38;5;124m \u001b[39m\u001b[38;5;132;01m{\u001b[39;00m\u001b[38;5;28mlen\u001b[39m(\u001b[38;5;28mself\u001b[39m\u001b[38;5;241m.\u001b[39mweights)\u001b[38;5;132;01m}\u001b[39;00m\u001b[38;5;124m weights, \u001b[39m\u001b[38;5;132;01m{\u001b[39;00m\u001b[38;5;28mlen\u001b[39m(\u001b[38;5;28mself\u001b[39m\u001b[38;5;241m.\u001b[39mestimators)\u001b[38;5;132;01m}\u001b[39;00m\u001b[38;5;124m estimators\u001b[39m\u001b[38;5;124m\"\u001b[39m\n\u001b[0;32m     87\u001b[0m         )\n",
            "File \u001b[1;32mc:\\Python\\Python311\\Lib\\site-packages\\sklearn\\ensemble\\_base.py:233\u001b[0m, in \u001b[0;36m_BaseHeterogeneousEnsemble._validate_estimators\u001b[1;34m(self)\u001b[0m\n\u001b[0;32m    230\u001b[0m is_estimator_type \u001b[38;5;241m=\u001b[39m is_classifier \u001b[38;5;28;01mif\u001b[39;00m is_classifier(\u001b[38;5;28mself\u001b[39m) \u001b[38;5;28;01melse\u001b[39;00m is_regressor\n\u001b[0;32m    232\u001b[0m \u001b[38;5;28;01mfor\u001b[39;00m est \u001b[38;5;129;01min\u001b[39;00m estimators:\n\u001b[1;32m--> 233\u001b[0m     \u001b[38;5;28;01mif\u001b[39;00m est \u001b[38;5;241m!=\u001b[39m \u001b[38;5;124m\"\u001b[39m\u001b[38;5;124mdrop\u001b[39m\u001b[38;5;124m\"\u001b[39m \u001b[38;5;129;01mand\u001b[39;00m \u001b[38;5;129;01mnot\u001b[39;00m \u001b[43mis_estimator_type\u001b[49m\u001b[43m(\u001b[49m\u001b[43mest\u001b[49m\u001b[43m)\u001b[49m:\n\u001b[0;32m    234\u001b[0m         \u001b[38;5;28;01mraise\u001b[39;00m \u001b[38;5;167;01mValueError\u001b[39;00m(\n\u001b[0;32m    235\u001b[0m             \u001b[38;5;124m\"\u001b[39m\u001b[38;5;124mThe estimator \u001b[39m\u001b[38;5;132;01m{}\u001b[39;00m\u001b[38;5;124m should be a \u001b[39m\u001b[38;5;132;01m{}\u001b[39;00m\u001b[38;5;124m.\u001b[39m\u001b[38;5;124m\"\u001b[39m\u001b[38;5;241m.\u001b[39mformat(\n\u001b[0;32m    236\u001b[0m                 est\u001b[38;5;241m.\u001b[39m\u001b[38;5;18m__class__\u001b[39m\u001b[38;5;241m.\u001b[39m\u001b[38;5;18m__name__\u001b[39m, is_estimator_type\u001b[38;5;241m.\u001b[39m\u001b[38;5;18m__name__\u001b[39m[\u001b[38;5;241m3\u001b[39m:]\n\u001b[0;32m    237\u001b[0m             )\n\u001b[0;32m    238\u001b[0m         )\n\u001b[0;32m    240\u001b[0m \u001b[38;5;28;01mreturn\u001b[39;00m names, estimators\n",
            "File \u001b[1;32mc:\\Python\\Python311\\Lib\\site-packages\\sklearn\\base.py:1237\u001b[0m, in \u001b[0;36mis_classifier\u001b[1;34m(estimator)\u001b[0m\n\u001b[0;32m   1230\u001b[0m     warnings\u001b[38;5;241m.\u001b[39mwarn(\n\u001b[0;32m   1231\u001b[0m         \u001b[38;5;124mf\u001b[39m\u001b[38;5;124m\"\u001b[39m\u001b[38;5;124mpassing a class to \u001b[39m\u001b[38;5;132;01m{\u001b[39;00m\u001b[38;5;28mprint\u001b[39m(inspect\u001b[38;5;241m.\u001b[39mstack()[\u001b[38;5;241m0\u001b[39m][\u001b[38;5;241m3\u001b[39m])\u001b[38;5;132;01m}\u001b[39;00m\u001b[38;5;124m is deprecated and \u001b[39m\u001b[38;5;124m\"\u001b[39m\n\u001b[0;32m   1232\u001b[0m         \u001b[38;5;124m\"\u001b[39m\u001b[38;5;124mwill be removed in 1.8. Use an instance of the class instead.\u001b[39m\u001b[38;5;124m\"\u001b[39m,\n\u001b[0;32m   1233\u001b[0m         \u001b[38;5;167;01mFutureWarning\u001b[39;00m,\n\u001b[0;32m   1234\u001b[0m     )\n\u001b[0;32m   1235\u001b[0m     \u001b[38;5;28;01mreturn\u001b[39;00m \u001b[38;5;28mgetattr\u001b[39m(estimator, \u001b[38;5;124m\"\u001b[39m\u001b[38;5;124m_estimator_type\u001b[39m\u001b[38;5;124m\"\u001b[39m, \u001b[38;5;28;01mNone\u001b[39;00m) \u001b[38;5;241m==\u001b[39m \u001b[38;5;124m\"\u001b[39m\u001b[38;5;124mclassifier\u001b[39m\u001b[38;5;124m\"\u001b[39m\n\u001b[1;32m-> 1237\u001b[0m \u001b[38;5;28;01mreturn\u001b[39;00m \u001b[43mget_tags\u001b[49m\u001b[43m(\u001b[49m\u001b[43mestimator\u001b[49m\u001b[43m)\u001b[49m\u001b[38;5;241m.\u001b[39mestimator_type \u001b[38;5;241m==\u001b[39m \u001b[38;5;124m\"\u001b[39m\u001b[38;5;124mclassifier\u001b[39m\u001b[38;5;124m\"\u001b[39m\n",
            "File \u001b[1;32mc:\\Python\\Python311\\Lib\\site-packages\\sklearn\\utils\\_tags.py:430\u001b[0m, in \u001b[0;36mget_tags\u001b[1;34m(estimator)\u001b[0m\n\u001b[0;32m    428\u001b[0m \u001b[38;5;28;01mfor\u001b[39;00m klass \u001b[38;5;129;01min\u001b[39;00m \u001b[38;5;28mreversed\u001b[39m(\u001b[38;5;28mtype\u001b[39m(estimator)\u001b[38;5;241m.\u001b[39mmro()):\n\u001b[0;32m    429\u001b[0m     \u001b[38;5;28;01mif\u001b[39;00m \u001b[38;5;124m\"\u001b[39m\u001b[38;5;124m__sklearn_tags__\u001b[39m\u001b[38;5;124m\"\u001b[39m \u001b[38;5;129;01min\u001b[39;00m \u001b[38;5;28mvars\u001b[39m(klass):\n\u001b[1;32m--> 430\u001b[0m         sklearn_tags_provider[klass] \u001b[38;5;241m=\u001b[39m \u001b[43mklass\u001b[49m\u001b[38;5;241;43m.\u001b[39;49m\u001b[43m__sklearn_tags__\u001b[49m\u001b[43m(\u001b[49m\u001b[43mestimator\u001b[49m\u001b[43m)\u001b[49m  \u001b[38;5;66;03m# type: ignore[attr-defined]\u001b[39;00m\n\u001b[0;32m    431\u001b[0m         class_order\u001b[38;5;241m.\u001b[39mappend(klass)\n\u001b[0;32m    432\u001b[0m     \u001b[38;5;28;01melif\u001b[39;00m \u001b[38;5;124m\"\u001b[39m\u001b[38;5;124m_more_tags\u001b[39m\u001b[38;5;124m\"\u001b[39m \u001b[38;5;129;01min\u001b[39;00m \u001b[38;5;28mvars\u001b[39m(klass):\n",
            "File \u001b[1;32mc:\\Python\\Python311\\Lib\\site-packages\\sklearn\\base.py:540\u001b[0m, in \u001b[0;36mClassifierMixin.__sklearn_tags__\u001b[1;34m(self)\u001b[0m\n\u001b[0;32m    539\u001b[0m \u001b[38;5;28;01mdef\u001b[39;00m \u001b[38;5;21m__sklearn_tags__\u001b[39m(\u001b[38;5;28mself\u001b[39m):\n\u001b[1;32m--> 540\u001b[0m     tags \u001b[38;5;241m=\u001b[39m \u001b[38;5;28;43msuper\u001b[39;49m\u001b[43m(\u001b[49m\u001b[43m)\u001b[49m\u001b[38;5;241;43m.\u001b[39;49m\u001b[43m__sklearn_tags__\u001b[49m()\n\u001b[0;32m    541\u001b[0m     tags\u001b[38;5;241m.\u001b[39mestimator_type \u001b[38;5;241m=\u001b[39m \u001b[38;5;124m\"\u001b[39m\u001b[38;5;124mclassifier\u001b[39m\u001b[38;5;124m\"\u001b[39m\n\u001b[0;32m    542\u001b[0m     tags\u001b[38;5;241m.\u001b[39mclassifier_tags \u001b[38;5;241m=\u001b[39m ClassifierTags()\n",
            "\u001b[1;31mAttributeError\u001b[0m: 'super' object has no attribute '__sklearn_tags__'"
          ]
        }
      ],
      "source": [
        "from sklearn.ensemble import VotingClassifier, RandomForestClassifier\n",
        "from xgboost import XGBClassifier\n",
        "from sklearn.model_selection import cross_val_score\n",
        "from sklearn.metrics import accuracy_score, classification_report\n",
        "\n",
        "# Define the RandomForest model\n",
        "rf = RandomForestClassifier(random_state=42, n_estimators=50, max_depth=10, min_samples_split=5, n_jobs=-1)\n",
        "\n",
        "# Define the XGBClassifier model (no need for wrapping)\n",
        "xgb = XGBClassifier(random_state=42, max_depth=6, learning_rate=0.05, subsample=0.8, colsample_bytree=0.8, reg_lambda=1, n_jobs=-1)\n",
        "\n",
        "# Create a VotingClassifier with only RandomForest and XGBoost\n",
        "voting_clf = VotingClassifier(estimators=[\n",
        "    ('rf', rf),\n",
        "    ('xgb', xgb),\n",
        "], voting='soft')  # Soft voting (uses predicted probabilities)\n",
        "\n",
        "# Fit the Voting Classifier\n",
        "voting_clf.fit(X_train, y_train)\n",
        "\n",
        "# Perform cross-validation and check accuracy\n",
        "cv_scores = cross_val_score(voting_clf, X_train, y_train, cv=3, scoring='accuracy')  # Reduce cv folds for quicker testing\n",
        "print(f\"Cross-validation accuracy scores: {cv_scores}\")\n",
        "print(f\"Mean cross-validation accuracy: {cv_scores.mean():.4f}\")\n",
        "\n",
        "# Evaluate on the test set\n",
        "y_test_pred = voting_clf.predict(X_test)\n",
        "test_accuracy = accuracy_score(y_test, y_test_pred)\n",
        "print(f\"Test Accuracy: {test_accuracy:.4f}\")\n",
        "\n",
        "# Show classification report\n",
        "print(f\"Classification Report:\\n{classification_report(y_test, y_test_pred)}\")\n"
      ]
    },
    {
      "cell_type": "code",
      "execution_count": null,
      "metadata": {
        "id": "yIwnVXADTlfR"
      },
      "outputs": [],
      "source": [
        "from sklearn.metrics import accuracy_score\n",
        "\n",
        "# Predict on the test set\n",
        "y_test_pred = voting_clf.predict(X_test)\n",
        "\n",
        "# Calculate and print the accuracy on the test set\n",
        "test_accuracy = accuracy_score(y_test, y_test_pred)\n",
        "print(f\"Test Accuracy: {test_accuracy:.4f}\")\n"
      ]
    },
    {
      "cell_type": "code",
      "execution_count": null,
      "metadata": {
        "id": "oeChGDztSxk2"
      },
      "outputs": [],
      "source": [
        "xgb = XGBClassifier().fit(X_scaled, y)\n",
        "importance = xgb.feature_importances_\n",
        "top_features = X.columns[importance.argsort()[-5:][::-1]]"
      ]
    },
    {
      "cell_type": "code",
      "execution_count": null,
      "metadata": {
        "id": "cyMJ-XCmSxhS"
      },
      "outputs": [],
      "source": []
    },
    {
      "cell_type": "code",
      "execution_count": null,
      "metadata": {
        "id": "24gna_B_1bp-"
      },
      "outputs": [],
      "source": []
    },
    {
      "cell_type": "code",
      "execution_count": null,
      "metadata": {
        "id": "wR9yBcF21bp-"
      },
      "outputs": [],
      "source": []
    },
    {
      "cell_type": "code",
      "execution_count": null,
      "metadata": {
        "id": "yHn2B32c1bp-"
      },
      "outputs": [],
      "source": []
    }
  ],
  "metadata": {
    "accelerator": "GPU",
    "colab": {
      "gpuType": "T4",
      "provenance": []
    },
    "kernelspec": {
      "display_name": "Python 3",
      "name": "python3"
    },
    "language_info": {
      "codemirror_mode": {
        "name": "ipython",
        "version": 3
      },
      "file_extension": ".py",
      "mimetype": "text/x-python",
      "name": "python",
      "nbconvert_exporter": "python",
      "pygments_lexer": "ipython3",
      "version": "3.11.4"
    }
  },
  "nbformat": 4,
  "nbformat_minor": 0
}
