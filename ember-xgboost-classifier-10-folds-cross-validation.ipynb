{
 "cells": [
  {
   "cell_type": "code",
   "execution_count": 1,
   "metadata": {
    "_cell_guid": "b1076dfc-b9ad-4769-8c92-a6c4dae69d19",
    "_uuid": "8f2839f25d086af736a60e9eeb907d3b93b6e0e5",
    "trusted": true
   },
   "outputs": [],
   "source": [
    "# This Python 3 environment comes with many helpful analytics libraries installed\n",
    "# It is defined by the kaggle/python Docker image: https://github.com/kaggle/docker-python\n",
    "# For example, here's several helpful packages to load\n",
    "import numpy as np # linear algebra\n",
    "import pandas as pd # data processing, CSV file I/O (e.g. pd.read_csv)\n",
    "\n",
    "# Input data files are available in the read-only \"../input/\" directory\n",
    "# For example, running this (by clicking run or pressing Shift+Enter) will list all files under the input directory\n",
    "\n",
    "import os\n",
    "for dirname, _, filenames in os.walk('/kaggle/input'):\n",
    "    for filename in filenames:\n",
    "        print(os.path.join(dirname, filename))\n",
    "\n",
    "# You can write up to 20GB to the current directory (/kaggle/working/) that gets preserved as output when you create a version using \"Save & Run All\" \n",
    "# You can also write temporary files to /kaggle/temp/, but they won't be saved outside of the current session"
   ]
  },
  {
   "cell_type": "code",
   "execution_count": 2,
   "metadata": {
    "trusted": true
   },
   "outputs": [
    {
     "name": "stdout",
     "output_type": "stream",
     "text": [
      "CPU times: total: 859 ms\n",
      "Wall time: 2.46 s\n"
     ]
    }
   ],
   "source": [
    "%%time\n",
    "\n",
    "import numpy as np\n",
    "import pandas as pd\n",
    "import time\n",
    "import pickle\n",
    "from sklearn.model_selection import train_test_split\n",
    "from xgboost import XGBClassifier\n",
    "\n",
    "from sklearn.model_selection import KFold\n"
   ]
  },
  {
   "cell_type": "code",
   "execution_count": 3,
   "metadata": {
    "trusted": true
   },
   "outputs": [
    {
     "name": "stdout",
     "output_type": "stream",
     "text": [
      "Processing time: 43.72270178794861 seconds \n",
      "CPU times: total: 8.55 s\n",
      "Wall time: 43.8 s\n"
     ]
    }
   ],
   "source": [
    "%%time\n",
    "start_time = time.time()\n",
    "path = \"C:/Users/nazih/Downloads/ember/\"\n",
    "train_size = 800000\n",
    "test_size = 200000\n",
    "columns = 2381\n",
    "X_train = np.memmap(path+\"X_train.dat\", dtype=np.float32, mode=\"r\", shape=(train_size, columns))\n",
    "y_train = np.memmap(path+\"y_train.dat\", dtype=np.float32, mode=\"r\", shape=train_size)\n",
    "X_test = np.memmap(path+\"X_test.dat\", dtype=np.float32, mode=\"r\", shape=(test_size, columns))\n",
    "y_test = np.memmap(path+\"y_test.dat\", dtype=np.float32, mode=\"r\", shape=test_size)\n",
    "\n",
    "train_rows = (y_train != -1)\n",
    "X_train=X = X_train[train_rows]\n",
    "y_train=y = y_train[train_rows]\n",
    "print(\"Processing time: %s seconds \" % (time.time() - start_time))\n"
   ]
  },
  {
   "cell_type": "code",
   "execution_count": 5,
   "metadata": {
    "trusted": true
   },
   "outputs": [
    {
     "name": "stdout",
     "output_type": "stream",
     "text": [
      "(402000, 2381) (402000,)\n",
      "(269340, 2381) (269340,)\n"
     ]
    }
   ],
   "source": [
    "#Redure dataset to run on Kaggle if needed. \n",
    "for i in range(2):\n",
    "    X_train, X_test, y_train, y_test = train_test_split(X, y, test_size=0.33, random_state=42)\n",
    "    X, y  = X_train, y_train\n",
    "    print(X.shape, y.shape)"
   ]
  },
  {
   "cell_type": "code",
   "execution_count": 6,
   "metadata": {
    "trusted": true
   },
   "outputs": [
    {
     "name": "stdout",
     "output_type": "stream",
     "text": [
      "CPU times: total: 24.3 s\n",
      "Wall time: 1min 56s\n"
     ]
    }
   ],
   "source": [
    "%%time\n",
    "X = pd.DataFrame(X_train)\n",
    "y = pd.Series(y_train)\n",
    "X = X.astype(np.float32)\n",
    "y = y.astype(np.float32)"
   ]
  },
  {
   "cell_type": "code",
   "execution_count": null,
   "metadata": {
    "trusted": true
   },
   "outputs": [
    {
     "data": {
      "text/html": [
       "<div>\n",
       "<style scoped>\n",
       "    .dataframe tbody tr th:only-of-type {\n",
       "        vertical-align: middle;\n",
       "    }\n",
       "\n",
       "    .dataframe tbody tr th {\n",
       "        vertical-align: top;\n",
       "    }\n",
       "\n",
       "    .dataframe thead th {\n",
       "        text-align: right;\n",
       "    }\n",
       "</style>\n",
       "<table border=\"1\" class=\"dataframe\">\n",
       "  <thead>\n",
       "    <tr style=\"text-align: right;\">\n",
       "      <th></th>\n",
       "      <th>0</th>\n",
       "      <th>1</th>\n",
       "      <th>2</th>\n",
       "      <th>3</th>\n",
       "      <th>4</th>\n",
       "      <th>5</th>\n",
       "      <th>6</th>\n",
       "      <th>7</th>\n",
       "      <th>8</th>\n",
       "      <th>9</th>\n",
       "      <th>...</th>\n",
       "      <th>2371</th>\n",
       "      <th>2372</th>\n",
       "      <th>2373</th>\n",
       "      <th>2374</th>\n",
       "      <th>2375</th>\n",
       "      <th>2376</th>\n",
       "      <th>2377</th>\n",
       "      <th>2378</th>\n",
       "      <th>2379</th>\n",
       "      <th>2380</th>\n",
       "    </tr>\n",
       "  </thead>\n",
       "  <tbody>\n",
       "    <tr>\n",
       "      <th>0</th>\n",
       "      <td>0.167156</td>\n",
       "      <td>0.012020</td>\n",
       "      <td>0.007193</td>\n",
       "      <td>0.008241</td>\n",
       "      <td>0.010548</td>\n",
       "      <td>0.004110</td>\n",
       "      <td>0.003892</td>\n",
       "      <td>0.003796</td>\n",
       "      <td>0.012897</td>\n",
       "      <td>0.002395</td>\n",
       "      <td>...</td>\n",
       "      <td>64.0</td>\n",
       "      <td>189056.0</td>\n",
       "      <td>0.0</td>\n",
       "      <td>0.0</td>\n",
       "      <td>552.0</td>\n",
       "      <td>176128.0</td>\n",
       "      <td>288.0</td>\n",
       "      <td>193012.0</td>\n",
       "      <td>0.0</td>\n",
       "      <td>0.0</td>\n",
       "    </tr>\n",
       "    <tr>\n",
       "      <th>1</th>\n",
       "      <td>0.289915</td>\n",
       "      <td>0.011604</td>\n",
       "      <td>0.009505</td>\n",
       "      <td>0.012839</td>\n",
       "      <td>0.009782</td>\n",
       "      <td>0.003218</td>\n",
       "      <td>0.001223</td>\n",
       "      <td>0.001130</td>\n",
       "      <td>0.006287</td>\n",
       "      <td>0.001949</td>\n",
       "      <td>...</td>\n",
       "      <td>0.0</td>\n",
       "      <td>0.0</td>\n",
       "      <td>0.0</td>\n",
       "      <td>0.0</td>\n",
       "      <td>0.0</td>\n",
       "      <td>0.0</td>\n",
       "      <td>0.0</td>\n",
       "      <td>0.0</td>\n",
       "      <td>0.0</td>\n",
       "      <td>0.0</td>\n",
       "    </tr>\n",
       "    <tr>\n",
       "      <th>2</th>\n",
       "      <td>0.582955</td>\n",
       "      <td>0.012451</td>\n",
       "      <td>0.003372</td>\n",
       "      <td>0.003378</td>\n",
       "      <td>0.006737</td>\n",
       "      <td>0.001782</td>\n",
       "      <td>0.001755</td>\n",
       "      <td>0.001511</td>\n",
       "      <td>0.006717</td>\n",
       "      <td>0.001043</td>\n",
       "      <td>...</td>\n",
       "      <td>64.0</td>\n",
       "      <td>67512.0</td>\n",
       "      <td>0.0</td>\n",
       "      <td>0.0</td>\n",
       "      <td>316.0</td>\n",
       "      <td>61440.0</td>\n",
       "      <td>0.0</td>\n",
       "      <td>0.0</td>\n",
       "      <td>0.0</td>\n",
       "      <td>0.0</td>\n",
       "    </tr>\n",
       "    <tr>\n",
       "      <th>3</th>\n",
       "      <td>0.604688</td>\n",
       "      <td>0.014453</td>\n",
       "      <td>0.005078</td>\n",
       "      <td>0.002734</td>\n",
       "      <td>0.009375</td>\n",
       "      <td>0.001172</td>\n",
       "      <td>0.001563</td>\n",
       "      <td>0.003125</td>\n",
       "      <td>0.003516</td>\n",
       "      <td>0.000781</td>\n",
       "      <td>...</td>\n",
       "      <td>0.0</td>\n",
       "      <td>0.0</td>\n",
       "      <td>0.0</td>\n",
       "      <td>0.0</td>\n",
       "      <td>0.0</td>\n",
       "      <td>0.0</td>\n",
       "      <td>0.0</td>\n",
       "      <td>0.0</td>\n",
       "      <td>0.0</td>\n",
       "      <td>0.0</td>\n",
       "    </tr>\n",
       "    <tr>\n",
       "      <th>4</th>\n",
       "      <td>0.248930</td>\n",
       "      <td>0.024164</td>\n",
       "      <td>0.013127</td>\n",
       "      <td>0.013370</td>\n",
       "      <td>0.012738</td>\n",
       "      <td>0.009675</td>\n",
       "      <td>0.018329</td>\n",
       "      <td>0.005591</td>\n",
       "      <td>0.006709</td>\n",
       "      <td>0.005299</td>\n",
       "      <td>...</td>\n",
       "      <td>0.0</td>\n",
       "      <td>0.0</td>\n",
       "      <td>0.0</td>\n",
       "      <td>0.0</td>\n",
       "      <td>8.0</td>\n",
       "      <td>8192.0</td>\n",
       "      <td>0.0</td>\n",
       "      <td>0.0</td>\n",
       "      <td>72.0</td>\n",
       "      <td>8200.0</td>\n",
       "    </tr>\n",
       "  </tbody>\n",
       "</table>\n",
       "<p>5 rows × 2381 columns</p>\n",
       "</div>"
      ],
      "text/plain": [
       "       0         1         2         3         4         5         6     \\\n",
       "0  0.167156  0.012020  0.007193  0.008241  0.010548  0.004110  0.003892   \n",
       "1  0.289915  0.011604  0.009505  0.012839  0.009782  0.003218  0.001223   \n",
       "2  0.582955  0.012451  0.003372  0.003378  0.006737  0.001782  0.001755   \n",
       "3  0.604688  0.014453  0.005078  0.002734  0.009375  0.001172  0.001563   \n",
       "4  0.248930  0.024164  0.013127  0.013370  0.012738  0.009675  0.018329   \n",
       "\n",
       "       7         8         9     ...  2371      2372  2373  2374   2375  \\\n",
       "0  0.003796  0.012897  0.002395  ...  64.0  189056.0   0.0   0.0  552.0   \n",
       "1  0.001130  0.006287  0.001949  ...   0.0       0.0   0.0   0.0    0.0   \n",
       "2  0.001511  0.006717  0.001043  ...  64.0   67512.0   0.0   0.0  316.0   \n",
       "3  0.003125  0.003516  0.000781  ...   0.0       0.0   0.0   0.0    0.0   \n",
       "4  0.005591  0.006709  0.005299  ...   0.0       0.0   0.0   0.0    8.0   \n",
       "\n",
       "       2376   2377      2378  2379    2380  \n",
       "0  176128.0  288.0  193012.0   0.0     0.0  \n",
       "1       0.0    0.0       0.0   0.0     0.0  \n",
       "2   61440.0    0.0       0.0   0.0     0.0  \n",
       "3       0.0    0.0       0.0   0.0     0.0  \n",
       "4    8192.0    0.0       0.0  72.0  8200.0  \n",
       "\n",
       "[5 rows x 2381 columns]"
      ]
     },
     "execution_count": 18,
     "metadata": {},
     "output_type": "execute_result"
    }
   ],
   "source": [
    "#print(X.shape, y.shape)\n",
    "X.head(5)"
   ]
  },
  {
   "cell_type": "code",
   "execution_count": 7,
   "metadata": {
    "trusted": true
   },
   "outputs": [],
   "source": [
    "#release memory\n",
    "del X_train\n",
    "del y_train"
   ]
  },
  {
   "cell_type": "code",
   "execution_count": 8,
   "metadata": {
    "trusted": true
   },
   "outputs": [
    {
     "name": "stdout",
     "output_type": "stream",
     "text": [
      "<class 'pandas.core.frame.DataFrame'>\n",
      "RangeIndex: 269340 entries, 0 to 269339\n",
      "Columns: 2381 entries, 0 to 2380\n",
      "dtypes: float32(2381)\n",
      "memory usage: 2.4 GB\n",
      "None (269340, 2381) (269340,)\n"
     ]
    }
   ],
   "source": [
    "print(X.info(), X.shape, y.shape)"
   ]
  },
  {
   "cell_type": "markdown",
   "metadata": {},
   "source": [
    "![](http://)"
   ]
  },
  {
   "cell_type": "code",
   "execution_count": null,
   "metadata": {},
   "outputs": [],
   "source": [
    "from sklearn.ensemble import RandomForestClassifier\n",
    "from sklearn.linear_model import LogisticRegression\n",
    "from sklearn.naive_bayes import GaussianNB\n",
    "from sklearn.ensemble import VotingClassifier\n",
    "from sklearn.model_selection import cross_val_score\n",
    "from sklearn.metrics import roc_auc_score\n",
    "import matplotlib.pyplot as plt\n",
    "from sklearn.metrics import roc_curve, auc\n",
    "\n",
    "\n",
    "# Define your classifiers\n",
    "log_reg = LogisticRegression(penalty='l2',C=0.001,solver='saga',random_state=1, max_iter=1000)\n",
    "forest = RandomForestClassifier(random_state=1,n_estimators=200,max_depth=10,class_weight='balanced')\n",
    "bayes = GaussianNB()\n",
    "ensemble = VotingClassifier(estimators=[\n",
    "    ('lr', log_reg),\n",
    "    ('rf', forest),\n",
    "    ('gnb', bayes)\n",
    "], voting='soft')\n",
    "\n",
    "# List of classifiers and their labels\n",
    "classifiers = [log_reg, forest, bayes, ensemble]\n",
    "labels = ['Logistic Regression', 'Random Forest', 'Gaussian Naive Bayes', 'Ensemble']\n",
    "\n",
    "# Perform cross-validation and print accuracy\n",
    "for clf, label in zip(classifiers, labels):\n",
    "    scores = cross_val_score(clf, X, y, cv=5, scoring='roc_auc_ovr')\n",
    "    print(f\"Accuracy: {scores.mean():.2f} (+/- {scores.std():.2f}) [{label}]\")\n",
    "\n",
    "# Fit the ensemble model\n",
    "ensemble.fit(X, y)\n",
    "\n",
    "# Predict probabilities and evaluate\n",
    "y_pred_probs_ensemble = ensemble.predict_proba(X_test)\n",
    "roc_auc_ensemble = roc_auc_score(y_test, y_pred_probs_ensemble, multi_class=\"ovr\")\n",
    " \n",
    "print(f\"ROC AUC for Ensemble (cv dataset): {roc_auc_ensemble:.2f}\")"
   ]
  },
  {
   "cell_type": "code",
   "execution_count": null,
   "metadata": {},
   "outputs": [],
   "source": []
  }
 ],
 "metadata": {
  "kernelspec": {
   "display_name": "Python 3",
   "language": "python",
   "name": "python3"
  },
  "language_info": {
   "codemirror_mode": {
    "name": "ipython",
    "version": 3
   },
   "file_extension": ".py",
   "mimetype": "text/x-python",
   "name": "python",
   "nbconvert_exporter": "python",
   "pygments_lexer": "ipython3",
   "version": "3.11.4"
  }
 },
 "nbformat": 4,
 "nbformat_minor": 4
}
