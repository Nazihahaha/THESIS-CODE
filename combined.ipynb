{
 "cells": [
  {
   "cell_type": "code",
   "execution_count": 1,
   "id": "5b6f6fe1",
   "metadata": {},
   "outputs": [],
   "source": [
    "# Import necessary libraries\n",
    "import numpy as np\n",
    "import pandas as pd\n",
    "import matplotlib.pyplot as plt\n",
    "import seaborn as sns\n",
    "\n",
    "from sklearn.preprocessing import StandardScaler\n",
    "from sklearn.preprocessing import LabelEncoder\n",
    "from sklearn.model_selection import train_test_split\n",
    "from sklearn.metrics import classification_report\n",
    "\n",
    "from sklearn.linear_model import LogisticRegression\n",
    "from sklearn.svm import SVC\n",
    "from sklearn.tree import DecisionTreeClassifier\n",
    "from sklearn.ensemble import RandomForestClassifier\n",
    "from sklearn.ensemble import AdaBoostClassifier\n",
    "\n",
    "from sklearn.metrics import accuracy_score, f1_score, precision_score, recall_score, confusion_matrix"
   ]
  },
  {
   "cell_type": "code",
   "execution_count": 2,
   "id": "7941c5c4",
   "metadata": {},
   "outputs": [
    {
     "name": "stdout",
     "output_type": "stream",
     "text": [
      "Number of duplicate rows: 1019\n"
     ]
    }
   ],
   "source": [
    "# Load the dataset\n",
    "mal_mem_df = pd.read_csv('data.csv')\n",
    "mal_mem_df.shape\n",
    "\n",
    "# Converting data types\n",
    "mal_mem_df[\"Class\"] = mal_mem_df[\"Class\"].astype(\"category\")\n",
    "\n",
    "# Check for duplicate rows based on all columns\n",
    "duplicates = mal_mem_df[mal_mem_df.duplicated(keep=False)]  # keep=False marks all duplicates\n",
    "print(f\"Number of duplicate rows: {len(duplicates)}\")\n"
   ]
  },
  {
   "cell_type": "code",
   "execution_count": 3,
   "id": "65429e98",
   "metadata": {},
   "outputs": [],
   "source": [
    "# This Python 3 environment comes with many helpful analytics libraries installed\n",
    "# It is defined by the kaggle/python Docker image: https://github.com/kaggle/docker-python\n",
    "# For example, here's several helpful packages to load\n",
    "import numpy as np # linear algebra\n",
    "import pandas as pd # data processing, CSV file I/O (e.g. pd.read_csv)\n",
    "\n",
    "# Input data files are available in the read-only \"../input/\" directory\n",
    "# For example, running this (by clicking run or pressing Shift+Enter) will list all files under the input directory\n",
    "\n",
    "import os\n",
    "for dirname, _, filenames in os.walk('/kaggle/input'):\n",
    "    for filename in filenames:\n",
    "        print(os.path.join(dirname, filename))\n",
    "\n",
    "# You can write up to 20GB to the current directory (/kaggle/working/) that gets preserved as output when you create a version using \"Save & Run All\" \n",
    "# You can also write temporary files to /kaggle/temp/, but they won't be saved outside of the current session"
   ]
  },
  {
   "cell_type": "code",
   "execution_count": 5,
   "id": "f2284ebe",
   "metadata": {},
   "outputs": [],
   "source": [
    "\n",
    "path = \"C:/Users/nazih/Downloads/ember/\"\n",
    "train_size = 800000\n",
    "test_size = 200000\n",
    "columns = 2381\n",
    "X_train = np.memmap(path+\"X_train.dat\", dtype=np.float32, mode=\"r\", shape=(train_size, columns))\n",
    "y_train = np.memmap(path+\"y_train.dat\", dtype=np.float32, mode=\"r\", shape=train_size)\n",
    "X_test = np.memmap(path+\"X_test.dat\", dtype=np.float32, mode=\"r\", shape=(test_size, columns))\n",
    "y_test = np.memmap(path+\"y_test.dat\", dtype=np.float32, mode=\"r\", shape=test_size)\n",
    "\n",
    "train_rows = (y_train != -1)\n",
    "X_train=X = X_train[train_rows]\n",
    "y_train=y = y_train[train_rows]\n",
    "\n"
   ]
  },
  {
   "cell_type": "code",
   "execution_count": null,
   "id": "1f655218",
   "metadata": {},
   "outputs": [],
   "source": [
    "from sklearn.ensemble import RandomForestClassifier\n",
    "from sklearn.linear_model import LogisticRegression\n",
    "from sklearn.naive_bayes import GaussianNB\n",
    "from sklearn.ensemble import VotingClassifier\n",
    "from sklearn.model_selection import cross_val_score\n",
    "from sklearn.metrics import roc_auc_score\n",
    "import matplotlib.pyplot as plt\n",
    "from sklearn.metrics import roc_curve, auc\n",
    "\n",
    "\n",
    "# Define your classifiers\n",
    "log_reg = LogisticRegression(penalty='l2',C=0.001,solver='saga',random_state=1, max_iter=1000)\n",
    "forest = RandomForestClassifier(random_state=1,n_estimators=200,max_depth=10,class_weight='balanced')\n",
    "bayes = GaussianNB()\n",
    "ensemble = VotingClassifier(estimators=[\n",
    "    ('lr', log_reg),\n",
    "    ('rf', forest),\n",
    "    ('gnb', bayes)\n",
    "], voting='soft')\n",
    "\n",
    "# List of classifiers and their labels\n",
    "classifiers = [log_reg, forest, bayes, ensemble]\n",
    "labels = ['Logistic Regression', 'Random Forest', 'Gaussian Naive Bayes', 'Ensemble']\n",
    "\n",
    "# Perform cross-validation and print accuracy\n",
    "for clf, label in zip(classifiers, labels):\n",
    "    scores = cross_val_score(clf, X_train, y_train, cv=5, scoring='roc_auc_ovr')\n",
    "    print(f\"Accuracy: {scores.mean():.2f} (+/- {scores.std():.2f}) [{label}]\")\n",
    "\n",
    "# Fit the ensemble model\n",
    "ensemble.fit(X_train, y_train)\n",
    "\n",
    "# Predict probabilities and evaluate\n",
    "y_pred_probs_ensemble = ensemble.predict_proba(X_test)\n",
    "roc_auc_ensemble = roc_auc_score(y_test, y_pred_probs_ensemble, multi_class=\"ovr\")\n",
    "\n",
    "print(f\"ROC AUC for Ensemble (cv dataset): {roc_auc_ensemble:.2f}\")\n",
    "\n",
    "\n",
    "\n"
   ]
  },
  {
   "cell_type": "code",
   "execution_count": null,
   "id": "96c3486b",
   "metadata": {},
   "outputs": [],
   "source": []
  }
 ],
 "metadata": {
  "kernelspec": {
   "display_name": "Python 3",
   "language": "python",
   "name": "python3"
  },
  "language_info": {
   "codemirror_mode": {
    "name": "ipython",
    "version": 3
   },
   "file_extension": ".py",
   "mimetype": "text/x-python",
   "name": "python",
   "nbconvert_exporter": "python",
   "pygments_lexer": "ipython3",
   "version": "3.11.4"
  }
 },
 "nbformat": 4,
 "nbformat_minor": 5
}
